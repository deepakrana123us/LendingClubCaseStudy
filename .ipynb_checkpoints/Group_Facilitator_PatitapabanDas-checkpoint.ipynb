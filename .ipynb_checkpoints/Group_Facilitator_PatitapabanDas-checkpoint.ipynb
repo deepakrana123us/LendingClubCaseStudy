{
 "cells": [
  {
   "cell_type": "code",
   "execution_count": 469,
   "id": "7281f83f-4379-4806-9cf4-752e2412c48e",
   "metadata": {},
   "outputs": [],
   "source": [
    "#Business Understanding: Analyzing one of the lending financial insititution  involved in lending various types of loans to urban customers.\n",
    "# upon recieving aloan application, the company has to decide to approve or reject the loan basis on the customer's profile. \n",
    "# Two types of risks are associated with the bank’s decision:\n",
    "   # (1) If the applicant is likely to repay the loan, then not approving the loan results in a loss of business to the company\n",
    "   # (2) If the applicant is not likely to repay the loan, i.e. he/she is likely to default, then approving the loan may lead to a financial loss for the company\n",
    "\n",
    "\n",
    "# Objective of case study: The aim is to identify patterns which indicate if a person is likely to default, which may be used for\n",
    "#                          taking actions such as denying the loan, reducing the amount of loan, lending (to risky applicants) at \n",
    "                           #a higher interest rate, etc.\n",
    "\n"
   ]
  },
  {
   "cell_type": "code",
   "execution_count": 470,
   "id": "13b79749-f15b-49dc-99d4-39bce013de48",
   "metadata": {},
   "outputs": [
    {
     "name": "stderr",
     "output_type": "stream",
     "text": [
      "/var/folders/b_/8s43py2x1h7dmgjq387q3rz80000gn/T/ipykernel_19970/735203131.py:6: DtypeWarning: Columns (47) have mixed types. Specify dtype option on import or set low_memory=False.\n",
      "  data = pd.read_csv(\"loan.csv\")\n"
     ]
    }
   ],
   "source": [
    "import numpy as np\n",
    "import pandas as pd\n",
    "import matplotlib.pyplot as plt\n",
    "import seaborn as sns\n",
    "\n",
    "data = pd.read_csv(\"loan.csv\")\n",
    "#data.head(10)\n",
    "#data.shape\n",
    "#data.info()\n",
    "#data.describe\n"
   ]
  },
  {
   "cell_type": "code",
   "execution_count": 471,
   "id": "fd9895b5-2062-4f8f-94ac-ba487288bcb3",
   "metadata": {},
   "outputs": [
    {
     "data": {
      "text/plain": [
       "id                                0\n",
       "member_id                         0\n",
       "loan_amnt                         0\n",
       "funded_amnt                       0\n",
       "funded_amnt_inv                   0\n",
       "                              ...  \n",
       "tax_liens                        39\n",
       "tot_hi_cred_lim               39717\n",
       "total_bal_ex_mort             39717\n",
       "total_bc_limit                39717\n",
       "total_il_high_credit_limit    39717\n",
       "Length: 111, dtype: int64"
      ]
     },
     "execution_count": 471,
     "metadata": {},
     "output_type": "execute_result"
    }
   ],
   "source": [
    "count_null = data.isnull().sum()\n",
    "count_null"
   ]
  },
  {
   "cell_type": "code",
   "execution_count": 472,
   "id": "a49eb166-c2fc-4d86-b57b-8bc41fce3b1a",
   "metadata": {},
   "outputs": [
    {
     "data": {
      "image/png": "[encoded data removed]",
      "text/plain": [
       "<Figure size 640x480 with 1 Axes>"
      ]
     },
     "metadata": {},
     "output_type": "display_data"
    }
   ],
   "source": [
    "plt.hist(count_null,color=\"y\", bins=50,edgecolor=\"b\")\n",
    "plt.title(\"Null Value Analysis - Loan Data\")\n",
    "plt.xlabel(\"No. of null\")\n",
    "plt.ylabel(\"No. of columns\")\n",
    "plt.show()"
   ]
  },
  {
   "cell_type": "code",
   "execution_count": 473,
   "id": "7c4a6599-76aa-45d5-b470-2aa7d1c16f27",
   "metadata": {},
   "outputs": [
    {
     "data": {
      "text/plain": [
       "desc                              12942\n",
       "mths_since_last_delinq            25682\n",
       "mths_since_last_record            36931\n",
       "next_pymnt_d                      38577\n",
       "mths_since_last_major_derog       39717\n",
       "annual_inc_joint                  39717\n",
       "dti_joint                         39717\n",
       "verification_status_joint         39717\n",
       "tot_coll_amt                      39717\n",
       "tot_cur_bal                       39717\n",
       "open_acc_6m                       39717\n",
       "open_il_6m                        39717\n",
       "open_il_12m                       39717\n",
       "open_il_24m                       39717\n",
       "mths_since_rcnt_il                39717\n",
       "total_bal_il                      39717\n",
       "il_util                           39717\n",
       "open_rv_12m                       39717\n",
       "open_rv_24m                       39717\n",
       "max_bal_bc                        39717\n",
       "all_util                          39717\n",
       "total_rev_hi_lim                  39717\n",
       "inq_fi                            39717\n",
       "total_cu_tl                       39717\n",
       "inq_last_12m                      39717\n",
       "acc_open_past_24mths              39717\n",
       "avg_cur_bal                       39717\n",
       "bc_open_to_buy                    39717\n",
       "bc_util                           39717\n",
       "mo_sin_old_il_acct                39717\n",
       "mo_sin_old_rev_tl_op              39717\n",
       "mo_sin_rcnt_rev_tl_op             39717\n",
       "mo_sin_rcnt_tl                    39717\n",
       "mort_acc                          39717\n",
       "mths_since_recent_bc              39717\n",
       "mths_since_recent_bc_dlq          39717\n",
       "mths_since_recent_inq             39717\n",
       "mths_since_recent_revol_delinq    39717\n",
       "num_accts_ever_120_pd             39717\n",
       "num_actv_bc_tl                    39717\n",
       "num_actv_rev_tl                   39717\n",
       "num_bc_sats                       39717\n",
       "num_bc_tl                         39717\n",
       "num_il_tl                         39717\n",
       "num_op_rev_tl                     39717\n",
       "num_rev_accts                     39717\n",
       "num_rev_tl_bal_gt_0               39717\n",
       "num_sats                          39717\n",
       "num_tl_120dpd_2m                  39717\n",
       "num_tl_30dpd                      39717\n",
       "num_tl_90g_dpd_24m                39717\n",
       "num_tl_op_past_12m                39717\n",
       "pct_tl_nvr_dlq                    39717\n",
       "percent_bc_gt_75                  39717\n",
       "tot_hi_cred_lim                   39717\n",
       "total_bal_ex_mort                 39717\n",
       "total_bc_limit                    39717\n",
       "total_il_high_credit_limit        39717\n",
       "dtype: int64"
      ]
     },
     "execution_count": 473,
     "metadata": {},
     "output_type": "execute_result"
    }
   ],
   "source": [
    "# let's check which columns are these having so many  null values\n",
    "\n",
    "count_null.loc[count_null.values>10000].sort_values()\n"
   ]
  },
  {
   "cell_type": "code",
   "execution_count": 474,
   "id": "fd3bc553-4ec3-4229-aeac-b60ae48242cd",
   "metadata": {},
   "outputs": [
    {
     "data": {
      "text/plain": [
       "(39717, 53)"
      ]
     },
     "execution_count": 474,
     "metadata": {},
     "output_type": "execute_result"
    }
   ],
   "source": [
    "# so many null values, I think we are good to deleted because we can't have anlysis on null values\n",
    "\n",
    "data.drop(columns = list(count_null[count_null.values>10000].index), inplace = True)\n",
    "#count_null.shape\n",
    "#count_null\n",
    "data.shape\n"
   ]
  },
  {
   "cell_type": "code",
   "execution_count": 475,
   "id": "bdec2569-f7b6-4972-adbe-fbf540b38b2e",
   "metadata": {},
   "outputs": [
    {
     "data": {
      "text/plain": [
       "id                            39717\n",
       "member_id                     39717\n",
       "loan_amnt                       885\n",
       "funded_amnt                    1041\n",
       "funded_amnt_inv                8205\n",
       "term                              2\n",
       "int_rate                        371\n",
       "installment                   15383\n",
       "grade                             7\n",
       "sub_grade                        35\n",
       "emp_title                     28820\n",
       "emp_length                       11\n",
       "home_ownership                    5\n",
       "annual_inc                     5318\n",
       "verification_status               3\n",
       "issue_d                          55\n",
       "loan_status                       3\n",
       "pymnt_plan                        1\n",
       "url                           39717\n",
       "purpose                          14\n",
       "title                         19615\n",
       "zip_code                        823\n",
       "addr_state                       50\n",
       "dti                            2868\n",
       "delinq_2yrs                      11\n",
       "earliest_cr_line                526\n",
       "inq_last_6mths                    9\n",
       "open_acc                         40\n",
       "pub_rec                           5\n",
       "revol_bal                     21711\n",
       "revol_util                     1089\n",
       "total_acc                        82\n",
       "initial_list_status               1\n",
       "out_prncp                      1137\n",
       "out_prncp_inv                  1138\n",
       "total_pymnt                   37850\n",
       "total_pymnt_inv               37518\n",
       "total_rec_prncp                7976\n",
       "total_rec_int                 35148\n",
       "total_rec_late_fee             1356\n",
       "recoveries                     4040\n",
       "collection_recovery_fee        2616\n",
       "last_pymnt_d                    101\n",
       "last_pymnt_amnt               34930\n",
       "last_credit_pull_d              106\n",
       "collections_12_mths_ex_med        1\n",
       "policy_code                       1\n",
       "application_type                  1\n",
       "acc_now_delinq                    1\n",
       "chargeoff_within_12_mths          1\n",
       "delinq_amnt                       1\n",
       "pub_rec_bankruptcies              3\n",
       "tax_liens                         1\n",
       "dtype: int64"
      ]
     },
     "execution_count": 475,
     "metadata": {},
     "output_type": "execute_result"
    }
   ],
   "source": [
    "uniq_col = data.nunique()\n",
    "uniq_col\n"
   ]
  },
  {
   "cell_type": "code",
   "execution_count": 476,
   "id": "a74e288c-4d4f-444a-8e86-30feff948e3b",
   "metadata": {},
   "outputs": [
    {
     "data": {
      "text/plain": [
       "Index(['pymnt_plan', 'initial_list_status', 'collections_12_mths_ex_med',\n",
       "       'policy_code', 'application_type', 'acc_now_delinq',\n",
       "       'chargeoff_within_12_mths', 'delinq_amnt', 'tax_liens'],\n",
       "      dtype='object')"
      ]
     },
     "execution_count": 476,
     "metadata": {},
     "output_type": "execute_result"
    }
   ],
   "source": [
    "uniq_data = uniq_col[uniq_col.values == 1]\n",
    "uniq_data.index"
   ]
  },
  {
   "cell_type": "code",
   "execution_count": 477,
   "id": "bd3cf91b-a587-478b-b2ac-120bb4db9fea",
   "metadata": {},
   "outputs": [
    {
     "data": {
      "text/plain": [
       "(39717, 44)"
      ]
     },
     "execution_count": 477,
     "metadata": {},
     "output_type": "execute_result"
    }
   ],
   "source": [
    "data.drop(columns = list(uniq_data.index), inplace=True)\n",
    "data.shape\n",
    "\n"
   ]
  },
  {
   "cell_type": "code",
   "execution_count": 478,
   "id": "dcc26282-d7a1-4cd5-b79c-c9235ae29869",
   "metadata": {},
   "outputs": [
    {
     "data": {
      "text/plain": [
       "<bound method DataFrame.info of        loan_amnt  funded_amnt  funded_amnt_inv        term int_rate  \\\n",
       "0           5000         5000           4975.0   36 months   10.65%   \n",
       "1           2500         2500           2500.0   60 months   15.27%   \n",
       "2           2400         2400           2400.0   36 months   15.96%   \n",
       "3          10000        10000          10000.0   36 months   13.49%   \n",
       "4           3000         3000           3000.0   60 months   12.69%   \n",
       "...          ...          ...              ...         ...      ...   \n",
       "39712       2500         2500           1075.0   36 months    8.07%   \n",
       "39713       8500         8500            875.0   36 months   10.28%   \n",
       "39714       5000         5000           1325.0   36 months    8.07%   \n",
       "39715       5000         5000            650.0   36 months    7.43%   \n",
       "39716       7500         7500            800.0   36 months   13.75%   \n",
       "\n",
       "       installment grade sub_grade                   emp_title emp_length  \\\n",
       "0           162.87     B        B2                         NaN  10+ years   \n",
       "1            59.83     C        C4                       Ryder   < 1 year   \n",
       "2            84.33     C        C5                         NaN  10+ years   \n",
       "3           339.31     C        C1         AIR RESOURCES BOARD  10+ years   \n",
       "4            67.79     B        B5    University Medical Group     1 year   \n",
       "...            ...   ...       ...                         ...        ...   \n",
       "39712        78.42     A        A4             FiSite Research    4 years   \n",
       "39713       275.38     C        C1  Squarewave Solutions, Ltd.    3 years   \n",
       "39714       156.84     A        A4                         NaN   < 1 year   \n",
       "39715       155.38     A        A2                         NaN   < 1 year   \n",
       "39716       255.43     E        E2            Evergreen Center   < 1 year   \n",
       "\n",
       "       ...    dti  delinq_2yrs earliest_cr_line inq_last_6mths open_acc  \\\n",
       "0      ...  27.65            0           Jan-85              1        3   \n",
       "1      ...   1.00            0           Apr-99              5        3   \n",
       "2      ...   8.72            0           Nov-01              2        2   \n",
       "3      ...  20.00            0           Feb-96              1       10   \n",
       "4      ...  17.94            0           Jan-96              0       15   \n",
       "...    ...    ...          ...              ...            ...      ...   \n",
       "39712  ...  11.33            0           Nov-90              0       13   \n",
       "39713  ...   6.40            1           Dec-86              1        6   \n",
       "39714  ...   2.30            0           Oct-98              0       11   \n",
       "39715  ...   3.72            0           Nov-88              0       17   \n",
       "39716  ...  14.29            1           Oct-03              0        7   \n",
       "\n",
       "      pub_rec revol_bal revol_util  total_acc  pub_rec_bankruptcies  \n",
       "0           0     13648     83.70%          9                   0.0  \n",
       "1           0      1687      9.40%          4                   0.0  \n",
       "2           0      2956     98.50%         10                   0.0  \n",
       "3           0      5598        21%         37                   0.0  \n",
       "4           0     27783     53.90%         38                   0.0  \n",
       "...       ...       ...        ...        ...                   ...  \n",
       "39712       0      7274     13.10%         40                   NaN  \n",
       "39713       0      8847     26.90%          9                   NaN  \n",
       "39714       0      9698     19.40%         20                   NaN  \n",
       "39715       0     85607      0.70%         26                   NaN  \n",
       "39716       0      4175     51.50%          8                   NaN  \n",
       "\n",
       "[39717 rows x 28 columns]>"
      ]
     },
     "execution_count": 478,
     "metadata": {},
     "output_type": "execute_result"
    }
   ],
   "source": [
    "# Fields after oan application approved and  fields like id, member_id & url are different for each application, #zip code doesn't have full data\n",
    "remove_fields = [\"id\",\"member_id\",\"url\",\"zip_code\",\"out_prncp\",\"out_prncp_inv\",\"total_pymnt\",\"total_pymnt_inv\",\n",
    "            \"total_rec_prncp\",\"total_rec_int\",\"total_rec_late_fee\",\"recoveries\",\"collection_recovery_fee\",\n",
    "            \"last_pymnt_d\",\"last_pymnt_amnt\",\"last_credit_pull_d\"]\n",
    "data.drop(columns=remove_fields, inplace=True)\n",
    "#data.shape\n",
    "data.info\n",
    "\n"
   ]
  },
  {
   "cell_type": "code",
   "execution_count": 479,
   "id": "a4d64c33-59d0-4581-b9e7-5db754433d3d",
   "metadata": {},
   "outputs": [
    {
     "data": {
      "text/html": [
       "<div>\n",
       "<style scoped>\n",
       "    .dataframe tbody tr th:only-of-type {\n",
       "        vertical-align: middle;\n",
       "    }\n",
       "\n",
       "    .dataframe tbody tr th {\n",
       "        vertical-align: top;\n",
       "    }\n",
       "\n",
       "    .dataframe thead th {\n",
       "        text-align: right;\n",
       "    }\n",
       "</style>\n",
       "<table border=\"1\" class=\"dataframe\">\n",
       "  <thead>\n",
       "    <tr style=\"text-align: right;\">\n",
       "      <th></th>\n",
       "      <th>loan_amnt</th>\n",
       "      <th>funded_amnt</th>\n",
       "      <th>funded_amnt_inv</th>\n",
       "      <th>installment</th>\n",
       "      <th>annual_inc</th>\n",
       "      <th>dti</th>\n",
       "      <th>delinq_2yrs</th>\n",
       "      <th>inq_last_6mths</th>\n",
       "      <th>open_acc</th>\n",
       "      <th>pub_rec</th>\n",
       "      <th>revol_bal</th>\n",
       "      <th>total_acc</th>\n",
       "      <th>pub_rec_bankruptcies</th>\n",
       "    </tr>\n",
       "  </thead>\n",
       "  <tbody>\n",
       "    <tr>\n",
       "      <th>count</th>\n",
       "      <td>39717.000000</td>\n",
       "      <td>39717.000000</td>\n",
       "      <td>39717.000000</td>\n",
       "      <td>39717.000000</td>\n",
       "      <td>3.971700e+04</td>\n",
       "      <td>39717.000000</td>\n",
       "      <td>39717.000000</td>\n",
       "      <td>39717.000000</td>\n",
       "      <td>39717.000000</td>\n",
       "      <td>39717.000000</td>\n",
       "      <td>39717.000000</td>\n",
       "      <td>39717.000000</td>\n",
       "      <td>39020.000000</td>\n",
       "    </tr>\n",
       "    <tr>\n",
       "      <th>mean</th>\n",
       "      <td>11219.443815</td>\n",
       "      <td>10947.713196</td>\n",
       "      <td>10397.448868</td>\n",
       "      <td>324.561922</td>\n",
       "      <td>6.896893e+04</td>\n",
       "      <td>13.315130</td>\n",
       "      <td>0.146512</td>\n",
       "      <td>0.869200</td>\n",
       "      <td>9.294408</td>\n",
       "      <td>0.055065</td>\n",
       "      <td>13382.528086</td>\n",
       "      <td>22.088828</td>\n",
       "      <td>0.043260</td>\n",
       "    </tr>\n",
       "    <tr>\n",
       "      <th>std</th>\n",
       "      <td>7456.670694</td>\n",
       "      <td>7187.238670</td>\n",
       "      <td>7128.450439</td>\n",
       "      <td>208.874874</td>\n",
       "      <td>6.379377e+04</td>\n",
       "      <td>6.678594</td>\n",
       "      <td>0.491812</td>\n",
       "      <td>1.070219</td>\n",
       "      <td>4.400282</td>\n",
       "      <td>0.237200</td>\n",
       "      <td>15885.016641</td>\n",
       "      <td>11.401709</td>\n",
       "      <td>0.204324</td>\n",
       "    </tr>\n",
       "    <tr>\n",
       "      <th>min</th>\n",
       "      <td>500.000000</td>\n",
       "      <td>500.000000</td>\n",
       "      <td>0.000000</td>\n",
       "      <td>15.690000</td>\n",
       "      <td>4.000000e+03</td>\n",
       "      <td>0.000000</td>\n",
       "      <td>0.000000</td>\n",
       "      <td>0.000000</td>\n",
       "      <td>2.000000</td>\n",
       "      <td>0.000000</td>\n",
       "      <td>0.000000</td>\n",
       "      <td>2.000000</td>\n",
       "      <td>0.000000</td>\n",
       "    </tr>\n",
       "    <tr>\n",
       "      <th>25%</th>\n",
       "      <td>5500.000000</td>\n",
       "      <td>5400.000000</td>\n",
       "      <td>5000.000000</td>\n",
       "      <td>167.020000</td>\n",
       "      <td>4.040400e+04</td>\n",
       "      <td>8.170000</td>\n",
       "      <td>0.000000</td>\n",
       "      <td>0.000000</td>\n",
       "      <td>6.000000</td>\n",
       "      <td>0.000000</td>\n",
       "      <td>3703.000000</td>\n",
       "      <td>13.000000</td>\n",
       "      <td>0.000000</td>\n",
       "    </tr>\n",
       "    <tr>\n",
       "      <th>50%</th>\n",
       "      <td>10000.000000</td>\n",
       "      <td>9600.000000</td>\n",
       "      <td>8975.000000</td>\n",
       "      <td>280.220000</td>\n",
       "      <td>5.900000e+04</td>\n",
       "      <td>13.400000</td>\n",
       "      <td>0.000000</td>\n",
       "      <td>1.000000</td>\n",
       "      <td>9.000000</td>\n",
       "      <td>0.000000</td>\n",
       "      <td>8850.000000</td>\n",
       "      <td>20.000000</td>\n",
       "      <td>0.000000</td>\n",
       "    </tr>\n",
       "    <tr>\n",
       "      <th>75%</th>\n",
       "      <td>15000.000000</td>\n",
       "      <td>15000.000000</td>\n",
       "      <td>14400.000000</td>\n",
       "      <td>430.780000</td>\n",
       "      <td>8.230000e+04</td>\n",
       "      <td>18.600000</td>\n",
       "      <td>0.000000</td>\n",
       "      <td>1.000000</td>\n",
       "      <td>12.000000</td>\n",
       "      <td>0.000000</td>\n",
       "      <td>17058.000000</td>\n",
       "      <td>29.000000</td>\n",
       "      <td>0.000000</td>\n",
       "    </tr>\n",
       "    <tr>\n",
       "      <th>max</th>\n",
       "      <td>35000.000000</td>\n",
       "      <td>35000.000000</td>\n",
       "      <td>35000.000000</td>\n",
       "      <td>1305.190000</td>\n",
       "      <td>6.000000e+06</td>\n",
       "      <td>29.990000</td>\n",
       "      <td>11.000000</td>\n",
       "      <td>8.000000</td>\n",
       "      <td>44.000000</td>\n",
       "      <td>4.000000</td>\n",
       "      <td>149588.000000</td>\n",
       "      <td>90.000000</td>\n",
       "      <td>2.000000</td>\n",
       "    </tr>\n",
       "  </tbody>\n",
       "</table>\n",
       "</div>"
      ],
      "text/plain": [
       "          loan_amnt   funded_amnt  funded_amnt_inv   installment  \\\n",
       "count  39717.000000  39717.000000     39717.000000  39717.000000   \n",
       "mean   11219.443815  10947.713196     10397.448868    324.561922   \n",
       "std     7456.670694   7187.238670      7128.450439    208.874874   \n",
       "min      500.000000    500.000000         0.000000     15.690000   \n",
       "25%     5500.000000   5400.000000      5000.000000    167.020000   \n",
       "50%    10000.000000   9600.000000      8975.000000    280.220000   \n",
       "75%    15000.000000  15000.000000     14400.000000    430.780000   \n",
       "max    35000.000000  35000.000000     35000.000000   1305.190000   \n",
       "\n",
       "         annual_inc           dti   delinq_2yrs  inq_last_6mths      open_acc  \\\n",
       "count  3.971700e+04  39717.000000  39717.000000    39717.000000  39717.000000   \n",
       "mean   6.896893e+04     13.315130      0.146512        0.869200      9.294408   \n",
       "std    6.379377e+04      6.678594      0.491812        1.070219      4.400282   \n",
       "min    4.000000e+03      0.000000      0.000000        0.000000      2.000000   \n",
       "25%    4.040400e+04      8.170000      0.000000        0.000000      6.000000   \n",
       "50%    5.900000e+04     13.400000      0.000000        1.000000      9.000000   \n",
       "75%    8.230000e+04     18.600000      0.000000        1.000000     12.000000   \n",
       "max    6.000000e+06     29.990000     11.000000        8.000000     44.000000   \n",
       "\n",
       "            pub_rec      revol_bal     total_acc  pub_rec_bankruptcies  \n",
       "count  39717.000000   39717.000000  39717.000000          39020.000000  \n",
       "mean       0.055065   13382.528086     22.088828              0.043260  \n",
       "std        0.237200   15885.016641     11.401709              0.204324  \n",
       "min        0.000000       0.000000      2.000000              0.000000  \n",
       "25%        0.000000    3703.000000     13.000000              0.000000  \n",
       "50%        0.000000    8850.000000     20.000000              0.000000  \n",
       "75%        0.000000   17058.000000     29.000000              0.000000  \n",
       "max        4.000000  149588.000000     90.000000              2.000000  "
      ]
     },
     "execution_count": 479,
     "metadata": {},
     "output_type": "execute_result"
    }
   ],
   "source": [
    "data.describe()"
   ]
  },
  {
   "cell_type": "code",
   "execution_count": 480,
   "id": "09a4d698-1356-4ff4-9071-ea738fa58ca1",
   "metadata": {},
   "outputs": [
    {
     "data": {
      "text/plain": [
       "<bound method NDFrame.describe of        loan_amnt  funded_amnt  funded_amnt_inv        term int_rate  \\\n",
       "0           5000         5000           4975.0   36 months   10.65%   \n",
       "1           2500         2500           2500.0   60 months   15.27%   \n",
       "2           2400         2400           2400.0   36 months   15.96%   \n",
       "3          10000        10000          10000.0   36 months   13.49%   \n",
       "5           5000         5000           5000.0   36 months    7.90%   \n",
       "...          ...          ...              ...         ...      ...   \n",
       "39712       2500         2500           1075.0   36 months    8.07%   \n",
       "39713       8500         8500            875.0   36 months   10.28%   \n",
       "39714       5000         5000           1325.0   36 months    8.07%   \n",
       "39715       5000         5000            650.0   36 months    7.43%   \n",
       "39716       7500         7500            800.0   36 months   13.75%   \n",
       "\n",
       "       installment grade sub_grade                   emp_title emp_length  \\\n",
       "0           162.87     B        B2                         NaN  10+ years   \n",
       "1            59.83     C        C4                       Ryder   < 1 year   \n",
       "2            84.33     C        C5                         NaN  10+ years   \n",
       "3           339.31     C        C1         AIR RESOURCES BOARD  10+ years   \n",
       "5           156.46     A        A4        Veolia Transportaton    3 years   \n",
       "...            ...   ...       ...                         ...        ...   \n",
       "39712        78.42     A        A4             FiSite Research    4 years   \n",
       "39713       275.38     C        C1  Squarewave Solutions, Ltd.    3 years   \n",
       "39714       156.84     A        A4                         NaN   < 1 year   \n",
       "39715       155.38     A        A2                         NaN   < 1 year   \n",
       "39716       255.43     E        E2            Evergreen Center   < 1 year   \n",
       "\n",
       "       ...    dti  delinq_2yrs earliest_cr_line inq_last_6mths open_acc  \\\n",
       "0      ...  27.65            0           Jan-85              1        3   \n",
       "1      ...   1.00            0           Apr-99              5        3   \n",
       "2      ...   8.72            0           Nov-01              2        2   \n",
       "3      ...  20.00            0           Feb-96              1       10   \n",
       "5      ...  11.20            0           Nov-04              3        9   \n",
       "...    ...    ...          ...              ...            ...      ...   \n",
       "39712  ...  11.33            0           Nov-90              0       13   \n",
       "39713  ...   6.40            1           Dec-86              1        6   \n",
       "39714  ...   2.30            0           Oct-98              0       11   \n",
       "39715  ...   3.72            0           Nov-88              0       17   \n",
       "39716  ...  14.29            1           Oct-03              0        7   \n",
       "\n",
       "      pub_rec revol_bal revol_util  total_acc  pub_rec_bankruptcies  \n",
       "0           0     13648     83.70%          9                   0.0  \n",
       "1           0      1687      9.40%          4                   0.0  \n",
       "2           0      2956     98.50%         10                   0.0  \n",
       "3           0      5598        21%         37                   0.0  \n",
       "5           0      7963     28.30%         12                   0.0  \n",
       "...       ...       ...        ...        ...                   ...  \n",
       "39712       0      7274     13.10%         40                   NaN  \n",
       "39713       0      8847     26.90%          9                   NaN  \n",
       "39714       0      9698     19.40%         20                   NaN  \n",
       "39715       0     85607      0.70%         26                   NaN  \n",
       "39716       0      4175     51.50%          8                   NaN  \n",
       "\n",
       "[38577 rows x 28 columns]>"
      ]
     },
     "execution_count": 480,
     "metadata": {},
     "output_type": "execute_result"
    }
   ],
   "source": [
    "data['loan_status'].value_counts()\n",
    "#analysis on only load either fully paid or charged off\n",
    "\n",
    "#data = data.drop(data['loan_status']== \"Current\", inplace=True)\n",
    "data = data[~(data['loan_status'] == 'Current')]\n",
    "data.shape\n",
    "data.describe"
   ]
  },
  {
   "cell_type": "code",
   "execution_count": 481,
   "id": "db765ad4-3f6c-47eb-b63a-e9c578ff22f0",
   "metadata": {},
   "outputs": [
    {
     "name": "stderr",
     "output_type": "stream",
     "text": [
      "/var/folders/b_/8s43py2x1h7dmgjq387q3rz80000gn/T/ipykernel_19970/3198884267.py:2: SettingWithCopyWarning: \n",
      "A value is trying to be set on a copy of a slice from a DataFrame.\n",
      "Try using .loc[row_indexer,col_indexer] = value instead\n",
      "\n",
      "See the caveats in the documentation: https://pandas.pydata.org/pandas-docs/stable/user_guide/indexing.html#returning-a-view-versus-a-copy\n",
      "  data['int_rate'] = data['int_rate'].apply(lambda x: pd.to_numeric(x.split(\"%\")[0]))\n"
     ]
    },
    {
     "data": {
      "text/plain": [
       "<Axes: >"
      ]
     },
     "execution_count": 481,
     "metadata": {},
     "output_type": "execute_result"
    },
    {
     "data": {
      "image/png": "[encoded data removed]",
      "text/plain": [
       "<Figure size 640x480 with 1 Axes>"
      ]
     },
     "metadata": {},
     "output_type": "display_data"
    }
   ],
   "source": [
    "#data['int_rate'].head()\n",
    "data['int_rate'] = data['int_rate'].apply(lambda x: pd.to_numeric(x.split(\"%\")[0]))\n",
    "data['int_rate'].describe()\n",
    "data['int_rate'].plot.box()"
   ]
  },
  {
   "cell_type": "code",
   "execution_count": 482,
   "id": "549ac9ce-5a12-47fb-bb44-41f70c27ab99",
   "metadata": {},
   "outputs": [
    {
     "data": {
      "text/plain": [
       "grade\n",
       "B    11675\n",
       "A    10045\n",
       "C     7834\n",
       "D     5085\n",
       "E     2663\n",
       "F      976\n",
       "G      299\n",
       "Name: count, dtype: int64"
      ]
     },
     "execution_count": 482,
     "metadata": {},
     "output_type": "execute_result"
    }
   ],
   "source": [
    "data['grade'].value_counts()\n"
   ]
  },
  {
   "cell_type": "code",
   "execution_count": 483,
   "id": "f900e4d2-93be-4820-93f0-304460e0a179",
   "metadata": {},
   "outputs": [
    {
     "data": {
      "text/plain": [
       "<Axes: >"
      ]
     },
     "execution_count": 483,
     "metadata": {},
     "output_type": "execute_result"
    },
    {
     "data": {
      "image/png": "[encoded data removed]",
      "text/plain": [
       "<Figure size 640x480 with 1 Axes>"
      ]
     },
     "metadata": {},
     "output_type": "display_data"
    }
   ],
   "source": [
    "data['grade'].value_counts().plot.box()\n"
   ]
  },
  {
   "cell_type": "code",
   "execution_count": 484,
   "id": "1f0179d9-7d81-4ba7-8cd8-50fa10dfc25b",
   "metadata": {},
   "outputs": [
    {
     "data": {
      "text/plain": [
       "sub_grade\n",
       "A4    2873\n",
       "B3    2825\n",
       "A5    2715\n",
       "B5    2615\n",
       "B4    2437\n",
       "C1    2055\n",
       "B2    2001\n",
       "C2    1931\n",
       "A3    1810\n",
       "B1    1797\n",
       "A2    1508\n",
       "C3    1488\n",
       "D2    1286\n",
       "C4    1206\n",
       "C5    1154\n",
       "A1    1139\n",
       "D3    1116\n",
       "D1     931\n",
       "D4     918\n",
       "D5     834\n",
       "E1     722\n",
       "E2     614\n",
       "E3     516\n",
       "E4     424\n",
       "E5     387\n",
       "F1     305\n",
       "F2     233\n",
       "F3     174\n",
       "F4     151\n",
       "F5     113\n",
       "G1      94\n",
       "G2      77\n",
       "G4      54\n",
       "G3      45\n",
       "G5      29\n",
       "Name: count, dtype: int64"
      ]
     },
     "execution_count": 484,
     "metadata": {},
     "output_type": "execute_result"
    }
   ],
   "source": [
    "data['sub_grade'].value_counts()\n"
   ]
  },
  {
   "cell_type": "code",
   "execution_count": 485,
   "id": "88da754e-6d79-4495-b431-c7acfa56a116",
   "metadata": {},
   "outputs": [
    {
     "data": {
      "text/plain": [
       "Index(['loan_amnt', 'funded_amnt', 'funded_amnt_inv', 'term', 'int_rate',\n",
       "       'installment', 'grade', 'sub_grade', 'emp_title', 'emp_length',\n",
       "       'home_ownership', 'annual_inc', 'verification_status', 'issue_d',\n",
       "       'loan_status', 'purpose', 'title', 'addr_state', 'dti', 'delinq_2yrs',\n",
       "       'earliest_cr_line', 'inq_last_6mths', 'open_acc', 'pub_rec',\n",
       "       'revol_bal', 'revol_util', 'total_acc', 'pub_rec_bankruptcies'],\n",
       "      dtype='object')"
      ]
     },
     "execution_count": 485,
     "metadata": {},
     "output_type": "execute_result"
    }
   ],
   "source": [
    "data['emp_length'].unique()\n",
    "data.columns\n",
    "\n"
   ]
  },
  {
   "cell_type": "code",
   "execution_count": 486,
   "id": "341862b6-42ad-40da-9e93-5c83fbd1e448",
   "metadata": {},
   "outputs": [
    {
     "data": {
      "text/plain": [
       "home_ownership\n",
       "RENT        18480\n",
       "MORTGAGE    17021\n",
       "OWN          2975\n",
       "OTHER          98\n",
       "NONE            3\n",
       "Name: count, dtype: int64"
      ]
     },
     "execution_count": 486,
     "metadata": {},
     "output_type": "execute_result"
    }
   ],
   "source": [
    "data['home_ownership'].value_counts()\n"
   ]
  },
  {
   "cell_type": "code",
   "execution_count": 487,
   "id": "1e401d78-cfd4-413f-bf0b-0c777ec6be3c",
   "metadata": {},
   "outputs": [
    {
     "data": {
      "text/plain": [
       "verification_status\n",
       "Not Verified       16694\n",
       "Verified           12206\n",
       "Source Verified     9677\n",
       "Name: count, dtype: int64"
      ]
     },
     "execution_count": 487,
     "metadata": {},
     "output_type": "execute_result"
    }
   ],
   "source": [
    "data['verification_status'].value_counts()"
   ]
  },
  {
   "cell_type": "code",
   "execution_count": 488,
   "id": "f6e1b795-fd56-4c5a-b0be-a65f0104702f",
   "metadata": {},
   "outputs": [
    {
     "data": {
      "text/plain": [
       "0    Dec-11\n",
       "1    Dec-11\n",
       "2    Dec-11\n",
       "3    Dec-11\n",
       "5    Dec-11\n",
       "Name: issue_d, dtype: object"
      ]
     },
     "execution_count": 488,
     "metadata": {},
     "output_type": "execute_result"
    }
   ],
   "source": [
    "data['issue_d'].head()"
   ]
  },
  {
   "cell_type": "code",
   "execution_count": 489,
   "id": "725dbbc0-678b-4cea-8d68-f71af788ea66",
   "metadata": {},
   "outputs": [
    {
     "data": {
      "text/plain": [
       "<Axes: xlabel='verification_status'>"
      ]
     },
     "execution_count": 489,
     "metadata": {},
     "output_type": "execute_result"
    },
    {
     "data": {
      "image/png": "[encoded data removed]",
      "text/plain": [
       "<Figure size 640x480 with 1 Axes>"
      ]
     },
     "metadata": {},
     "output_type": "display_data"
    }
   ],
   "source": [
    "data['verification_status'].value_counts().plot.bar()\n"
   ]
  },
  {
   "cell_type": "code",
   "execution_count": 490,
   "id": "b74dbc7c-af4b-4dcd-b7d8-2592612acd52",
   "metadata": {},
   "outputs": [],
   "source": [
    "#m, y = data['issue_d'].str.split('-').str\n",
    "\n",
    "#data['issue_d'] = df['issue_d'].dt.day\n",
    "#data['issue_d'].str.slice(8, 10)"
   ]
  },
  {
   "cell_type": "code",
   "execution_count": 491,
   "id": "22f885e2-43ba-48e5-9364-c7ea1d572d51",
   "metadata": {},
   "outputs": [
    {
     "data": {
      "text/plain": [
       "purpose\n",
       "debt_consolidation    18055\n",
       "credit_card            5027\n",
       "other                  3865\n",
       "home_improvement       2875\n",
       "major_purchase         2150\n",
       "small_business         1754\n",
       "car                    1499\n",
       "wedding                 926\n",
       "medical                 681\n",
       "moving                  576\n",
       "vacation                375\n",
       "house                   367\n",
       "educational             325\n",
       "renewable_energy        102\n",
       "Name: count, dtype: int64"
      ]
     },
     "execution_count": 491,
     "metadata": {},
     "output_type": "execute_result"
    }
   ],
   "source": [
    "data['purpose'].value_counts()\n",
    "\n"
   ]
  },
  {
   "cell_type": "code",
   "execution_count": 492,
   "id": "788c6ad2-efe9-4a9d-b5de-5a72c95078ec",
   "metadata": {},
   "outputs": [
    {
     "data": {
      "text/plain": [
       "0                                  Computer\n",
       "1                                      bike\n",
       "2                      real estate business\n",
       "3                                  personel\n",
       "5     My wedding loan I promise to pay back\n",
       "6                                      Loan\n",
       "7                           Car Downpayment\n",
       "8      Expand Business & Buy Debt Portfolio\n",
       "9               Building my credit history.\n",
       "10               High intrest Consolidation\n",
       "Name: title, dtype: object"
      ]
     },
     "execution_count": 492,
     "metadata": {},
     "output_type": "execute_result"
    }
   ],
   "source": [
    "data['title'].head(10)"
   ]
  },
  {
   "cell_type": "code",
   "execution_count": 493,
   "id": "47c238ab-9f70-4ada-87ed-f7a491e69afc",
   "metadata": {},
   "outputs": [
    {
     "data": {
      "text/plain": [
       "earliest_cr_line\n",
       "00    3160\n",
       "99    2896\n",
       "98    2773\n",
       "01    2462\n",
       "97    2387\n",
       "96    2202\n",
       "95    2078\n",
       "94    1948\n",
       "02    1890\n",
       "03    1813\n",
       "04    1727\n",
       "05    1467\n",
       "93    1460\n",
       "06    1154\n",
       "92    1029\n",
       "90    1005\n",
       "91     945\n",
       "89     834\n",
       "88     709\n",
       "07     698\n",
       "87     590\n",
       "86     478\n",
       "85     439\n",
       "84     395\n",
       "83     322\n",
       "82     215\n",
       "81     181\n",
       "80     175\n",
       "78     161\n",
       "79     157\n",
       "08     153\n",
       "77     112\n",
       "76      93\n",
       "75      83\n",
       "74      62\n",
       "73      61\n",
       "72      49\n",
       "70      47\n",
       "71      45\n",
       "69      37\n",
       "68      19\n",
       "67      18\n",
       "66      11\n",
       "63      10\n",
       "65       8\n",
       "64       6\n",
       "62       5\n",
       "54       2\n",
       "61       2\n",
       "59       1\n",
       "56       1\n",
       "46       1\n",
       "50       1\n",
       "Name: count, dtype: int64"
      ]
     },
     "execution_count": 493,
     "metadata": {},
     "output_type": "execute_result"
    }
   ],
   "source": [
    "data['earliest_cr_line'].value_counts()\n",
    "y = data['earliest_cr_line'].str.split('-').str[1]\n",
    "y.value_counts()"
   ]
  },
  {
   "cell_type": "code",
   "execution_count": 494,
   "id": "48b7dcd5-05a4-4e07-8d1c-2a61b56400cf",
   "metadata": {},
   "outputs": [
    {
     "data": {
      "text/plain": [
       "2024"
      ]
     },
     "execution_count": 494,
     "metadata": {},
     "output_type": "execute_result"
    }
   ],
   "source": [
    "from datetime import datetime\n",
    "today = datetime.today()\n",
    "today.year"
   ]
  },
  {
   "cell_type": "code",
   "execution_count": 495,
   "id": "9cb66984-a75b-4e1a-bdce-1a7efd4a0a77",
   "metadata": {},
   "outputs": [],
   "source": [
    "def days_from_earliest_cr_line (d):\n",
    "    m, y = d.split('-')\n",
    "    if y in ['Jan','Feb','Mar','Apr','May','Jun','Jul','Aug','Sep','Oct','Nov','Dec']:\n",
    "        y, m = d.split('-')\n",
    "    y = 2000 + int(y)\n",
    "    if y > today.year:\n",
    "        y -= 100\n",
    "    earliest_cr_line = datetime.strptime(str(y)+'-'+m+'-1', '%Y-%b-%d')\n",
    "    return (today - earliest_cr_line).days"
   ]
  },
  {
   "cell_type": "code",
   "execution_count": 496,
   "id": "9d955161-11ec-4e1c-9f6b-73f7d7d62757",
   "metadata": {},
   "outputs": [
    {
     "name": "stderr",
     "output_type": "stream",
     "text": [
      "/var/folders/b_/8s43py2x1h7dmgjq387q3rz80000gn/T/ipykernel_19970/2655525545.py:1: SettingWithCopyWarning: \n",
      "A value is trying to be set on a copy of a slice from a DataFrame.\n",
      "Try using .loc[row_indexer,col_indexer] = value instead\n",
      "\n",
      "See the caveats in the documentation: https://pandas.pydata.org/pandas-docs/stable/user_guide/indexing.html#returning-a-view-versus-a-copy\n",
      "  data['days_from_earliest_cr_line'] = data['earliest_cr_line'].apply(days_from_earliest_cr_line)\n"
     ]
    },
    {
     "data": {
      "text/plain": [
       "count    38577.000000\n",
       "mean     10090.981647\n",
       "std       2491.854695\n",
       "min       5803.000000\n",
       "25%       8421.000000\n",
       "50%       9640.000000\n",
       "75%      11252.000000\n",
       "max      28753.000000\n",
       "Name: days_from_earliest_cr_line, dtype: float64"
      ]
     },
     "execution_count": 496,
     "metadata": {},
     "output_type": "execute_result"
    }
   ],
   "source": [
    "data['days_from_earliest_cr_line'] = data['earliest_cr_line'].apply(days_from_earliest_cr_line)\n",
    "data['days_from_earliest_cr_line'].describe()"
   ]
  },
  {
   "cell_type": "code",
   "execution_count": 497,
   "id": "418b4e20-0d4f-4626-9a34-02e8bc850da7",
   "metadata": {},
   "outputs": [
    {
     "name": "stderr",
     "output_type": "stream",
     "text": [
      "/var/folders/b_/8s43py2x1h7dmgjq387q3rz80000gn/T/ipykernel_19970/3841648745.py:1: SettingWithCopyWarning: \n",
      "A value is trying to be set on a copy of a slice from a DataFrame\n",
      "\n",
      "See the caveats in the documentation: https://pandas.pydata.org/pandas-docs/stable/user_guide/indexing.html#returning-a-view-versus-a-copy\n",
      "  data.drop(columns=['earliest_cr_line'], inplace=True)\n"
     ]
    }
   ],
   "source": [
    "data.drop(columns=['earliest_cr_line'], inplace=True)"
   ]
  },
  {
   "cell_type": "code",
   "execution_count": 498,
   "id": "700ade00-2941-46bf-a3db-cbf5b3495283",
   "metadata": {},
   "outputs": [
    {
     "name": "stderr",
     "output_type": "stream",
     "text": [
      "/var/folders/b_/8s43py2x1h7dmgjq387q3rz80000gn/T/ipykernel_19970/2725816378.py:1: SettingWithCopyWarning: \n",
      "A value is trying to be set on a copy of a slice from a DataFrame.\n",
      "Try using .loc[row_indexer,col_indexer] = value instead\n",
      "\n",
      "See the caveats in the documentation: https://pandas.pydata.org/pandas-docs/stable/user_guide/indexing.html#returning-a-view-versus-a-copy\n",
      "  data['revol_util'] = pd.Series(data['revol_util']).str.replace('%', '').astype(float)\n"
     ]
    }
   ],
   "source": [
    "data['revol_util'] = pd.Series(data['revol_util']).str.replace('%', '').astype(float)"
   ]
  },
  {
   "cell_type": "code",
   "execution_count": 532,
   "id": "cf61b89e-2c1d-4b91-94fb-217562bab23d",
   "metadata": {},
   "outputs": [
    {
     "name": "stdout",
     "output_type": "stream",
     "text": [
      "<class 'pandas.core.frame.DataFrame'>\n",
      "Index: 38577 entries, 0 to 39716\n",
      "Data columns (total 28 columns):\n",
      " #   Column                      Non-Null Count  Dtype  \n",
      "---  ------                      --------------  -----  \n",
      " 0   loan_amnt                   38577 non-null  int64  \n",
      " 1   funded_amnt                 38577 non-null  int64  \n",
      " 2   funded_amnt_inv             38577 non-null  float64\n",
      " 3   term                        38577 non-null  object \n",
      " 4   int_rate                    38577 non-null  float64\n",
      " 5   installment                 38577 non-null  float64\n",
      " 6   grade                       38577 non-null  object \n",
      " 7   sub_grade                   38577 non-null  object \n",
      " 8   emp_title                   36191 non-null  object \n",
      " 9   emp_length                  37544 non-null  object \n",
      " 10  home_ownership              38577 non-null  object \n",
      " 11  annual_inc                  38577 non-null  float64\n",
      " 12  verification_status         38577 non-null  object \n",
      " 13  issue_d                     38577 non-null  object \n",
      " 14  loan_status                 38577 non-null  object \n",
      " 15  purpose                     38577 non-null  object \n",
      " 16  title                       38566 non-null  object \n",
      " 17  addr_state                  38577 non-null  object \n",
      " 18  dti                         38577 non-null  float64\n",
      " 19  delinq_2yrs                 38577 non-null  int64  \n",
      " 20  inq_last_6mths              38577 non-null  int64  \n",
      " 21  open_acc                    38577 non-null  int64  \n",
      " 22  pub_rec                     38577 non-null  int64  \n",
      " 23  revol_bal                   38577 non-null  int64  \n",
      " 24  revol_util                  38527 non-null  float64\n",
      " 25  total_acc                   38577 non-null  int64  \n",
      " 26  pub_rec_bankruptcies        37880 non-null  float64\n",
      " 27  days_from_earliest_cr_line  38577 non-null  int64  \n",
      "dtypes: float64(7), int64(9), object(12)\n",
      "memory usage: 8.5+ MB\n"
     ]
    },
    {
     "data": {
      "text/html": [
       "<div>\n",
       "<style scoped>\n",
       "    .dataframe tbody tr th:only-of-type {\n",
       "        vertical-align: middle;\n",
       "    }\n",
       "\n",
       "    .dataframe tbody tr th {\n",
       "        vertical-align: top;\n",
       "    }\n",
       "\n",
       "    .dataframe thead th {\n",
       "        text-align: right;\n",
       "    }\n",
       "</style>\n",
       "<table border=\"1\" class=\"dataframe\">\n",
       "  <thead>\n",
       "    <tr style=\"text-align: right;\">\n",
       "      <th></th>\n",
       "      <th>loan_amnt</th>\n",
       "      <th>funded_amnt</th>\n",
       "      <th>funded_amnt_inv</th>\n",
       "      <th>int_rate</th>\n",
       "      <th>installment</th>\n",
       "      <th>annual_inc</th>\n",
       "      <th>dti</th>\n",
       "      <th>delinq_2yrs</th>\n",
       "      <th>inq_last_6mths</th>\n",
       "      <th>open_acc</th>\n",
       "      <th>pub_rec</th>\n",
       "      <th>revol_bal</th>\n",
       "      <th>revol_util</th>\n",
       "      <th>total_acc</th>\n",
       "      <th>pub_rec_bankruptcies</th>\n",
       "      <th>days_from_earliest_cr_line</th>\n",
       "    </tr>\n",
       "  </thead>\n",
       "  <tbody>\n",
       "    <tr>\n",
       "      <th>count</th>\n",
       "      <td>38577.000000</td>\n",
       "      <td>38577.000000</td>\n",
       "      <td>38577.000000</td>\n",
       "      <td>38577.000000</td>\n",
       "      <td>38577.000000</td>\n",
       "      <td>3.857700e+04</td>\n",
       "      <td>38577.000000</td>\n",
       "      <td>38577.000000</td>\n",
       "      <td>38577.000000</td>\n",
       "      <td>38577.000000</td>\n",
       "      <td>38577.000000</td>\n",
       "      <td>38577.000000</td>\n",
       "      <td>38527.000000</td>\n",
       "      <td>38577.000000</td>\n",
       "      <td>37880.000000</td>\n",
       "      <td>38577.000000</td>\n",
       "    </tr>\n",
       "    <tr>\n",
       "      <th>mean</th>\n",
       "      <td>11047.025430</td>\n",
       "      <td>10784.058506</td>\n",
       "      <td>10222.481123</td>\n",
       "      <td>11.932219</td>\n",
       "      <td>322.466318</td>\n",
       "      <td>6.877797e+04</td>\n",
       "      <td>13.272727</td>\n",
       "      <td>0.146668</td>\n",
       "      <td>0.871737</td>\n",
       "      <td>9.275423</td>\n",
       "      <td>0.055422</td>\n",
       "      <td>13289.489826</td>\n",
       "      <td>48.702777</td>\n",
       "      <td>22.052648</td>\n",
       "      <td>0.043479</td>\n",
       "      <td>10090.981647</td>\n",
       "    </tr>\n",
       "    <tr>\n",
       "      <th>std</th>\n",
       "      <td>7348.441646</td>\n",
       "      <td>7090.306027</td>\n",
       "      <td>7022.720644</td>\n",
       "      <td>3.691327</td>\n",
       "      <td>208.639215</td>\n",
       "      <td>6.421868e+04</td>\n",
       "      <td>6.673044</td>\n",
       "      <td>0.492271</td>\n",
       "      <td>1.071546</td>\n",
       "      <td>4.401588</td>\n",
       "      <td>0.237804</td>\n",
       "      <td>15866.492241</td>\n",
       "      <td>28.364741</td>\n",
       "      <td>11.425861</td>\n",
       "      <td>0.204583</td>\n",
       "      <td>2491.854695</td>\n",
       "    </tr>\n",
       "    <tr>\n",
       "      <th>min</th>\n",
       "      <td>500.000000</td>\n",
       "      <td>500.000000</td>\n",
       "      <td>0.000000</td>\n",
       "      <td>5.420000</td>\n",
       "      <td>15.690000</td>\n",
       "      <td>4.000000e+03</td>\n",
       "      <td>0.000000</td>\n",
       "      <td>0.000000</td>\n",
       "      <td>0.000000</td>\n",
       "      <td>2.000000</td>\n",
       "      <td>0.000000</td>\n",
       "      <td>0.000000</td>\n",
       "      <td>0.000000</td>\n",
       "      <td>2.000000</td>\n",
       "      <td>0.000000</td>\n",
       "      <td>5803.000000</td>\n",
       "    </tr>\n",
       "    <tr>\n",
       "      <th>25%</th>\n",
       "      <td>5300.000000</td>\n",
       "      <td>5200.000000</td>\n",
       "      <td>5000.000000</td>\n",
       "      <td>8.940000</td>\n",
       "      <td>165.740000</td>\n",
       "      <td>4.000000e+04</td>\n",
       "      <td>8.130000</td>\n",
       "      <td>0.000000</td>\n",
       "      <td>0.000000</td>\n",
       "      <td>6.000000</td>\n",
       "      <td>0.000000</td>\n",
       "      <td>3650.000000</td>\n",
       "      <td>25.200000</td>\n",
       "      <td>13.000000</td>\n",
       "      <td>0.000000</td>\n",
       "      <td>8421.000000</td>\n",
       "    </tr>\n",
       "    <tr>\n",
       "      <th>50%</th>\n",
       "      <td>9600.000000</td>\n",
       "      <td>9550.000000</td>\n",
       "      <td>8733.440000</td>\n",
       "      <td>11.710000</td>\n",
       "      <td>277.860000</td>\n",
       "      <td>5.886800e+04</td>\n",
       "      <td>13.370000</td>\n",
       "      <td>0.000000</td>\n",
       "      <td>1.000000</td>\n",
       "      <td>9.000000</td>\n",
       "      <td>0.000000</td>\n",
       "      <td>8762.000000</td>\n",
       "      <td>49.100000</td>\n",
       "      <td>20.000000</td>\n",
       "      <td>0.000000</td>\n",
       "      <td>9640.000000</td>\n",
       "    </tr>\n",
       "    <tr>\n",
       "      <th>75%</th>\n",
       "      <td>15000.000000</td>\n",
       "      <td>15000.000000</td>\n",
       "      <td>14000.000000</td>\n",
       "      <td>14.380000</td>\n",
       "      <td>425.550000</td>\n",
       "      <td>8.200000e+04</td>\n",
       "      <td>18.560000</td>\n",
       "      <td>0.000000</td>\n",
       "      <td>1.000000</td>\n",
       "      <td>12.000000</td>\n",
       "      <td>0.000000</td>\n",
       "      <td>16912.000000</td>\n",
       "      <td>72.300000</td>\n",
       "      <td>29.000000</td>\n",
       "      <td>0.000000</td>\n",
       "      <td>11252.000000</td>\n",
       "    </tr>\n",
       "    <tr>\n",
       "      <th>max</th>\n",
       "      <td>35000.000000</td>\n",
       "      <td>35000.000000</td>\n",
       "      <td>35000.000000</td>\n",
       "      <td>24.400000</td>\n",
       "      <td>1305.190000</td>\n",
       "      <td>6.000000e+06</td>\n",
       "      <td>29.990000</td>\n",
       "      <td>11.000000</td>\n",
       "      <td>8.000000</td>\n",
       "      <td>44.000000</td>\n",
       "      <td>4.000000</td>\n",
       "      <td>149588.000000</td>\n",
       "      <td>99.900000</td>\n",
       "      <td>90.000000</td>\n",
       "      <td>2.000000</td>\n",
       "      <td>28753.000000</td>\n",
       "    </tr>\n",
       "  </tbody>\n",
       "</table>\n",
       "</div>"
      ],
      "text/plain": [
       "          loan_amnt   funded_amnt  funded_amnt_inv      int_rate  \\\n",
       "count  38577.000000  38577.000000     38577.000000  38577.000000   \n",
       "mean   11047.025430  10784.058506     10222.481123     11.932219   \n",
       "std     7348.441646   7090.306027      7022.720644      3.691327   \n",
       "min      500.000000    500.000000         0.000000      5.420000   \n",
       "25%     5300.000000   5200.000000      5000.000000      8.940000   \n",
       "50%     9600.000000   9550.000000      8733.440000     11.710000   \n",
       "75%    15000.000000  15000.000000     14000.000000     14.380000   \n",
       "max    35000.000000  35000.000000     35000.000000     24.400000   \n",
       "\n",
       "        installment    annual_inc           dti   delinq_2yrs  inq_last_6mths  \\\n",
       "count  38577.000000  3.857700e+04  38577.000000  38577.000000    38577.000000   \n",
       "mean     322.466318  6.877797e+04     13.272727      0.146668        0.871737   \n",
       "std      208.639215  6.421868e+04      6.673044      0.492271        1.071546   \n",
       "min       15.690000  4.000000e+03      0.000000      0.000000        0.000000   \n",
       "25%      165.740000  4.000000e+04      8.130000      0.000000        0.000000   \n",
       "50%      277.860000  5.886800e+04     13.370000      0.000000        1.000000   \n",
       "75%      425.550000  8.200000e+04     18.560000      0.000000        1.000000   \n",
       "max     1305.190000  6.000000e+06     29.990000     11.000000        8.000000   \n",
       "\n",
       "           open_acc       pub_rec      revol_bal    revol_util     total_acc  \\\n",
       "count  38577.000000  38577.000000   38577.000000  38527.000000  38577.000000   \n",
       "mean       9.275423      0.055422   13289.489826     48.702777     22.052648   \n",
       "std        4.401588      0.237804   15866.492241     28.364741     11.425861   \n",
       "min        2.000000      0.000000       0.000000      0.000000      2.000000   \n",
       "25%        6.000000      0.000000    3650.000000     25.200000     13.000000   \n",
       "50%        9.000000      0.000000    8762.000000     49.100000     20.000000   \n",
       "75%       12.000000      0.000000   16912.000000     72.300000     29.000000   \n",
       "max       44.000000      4.000000  149588.000000     99.900000     90.000000   \n",
       "\n",
       "       pub_rec_bankruptcies  days_from_earliest_cr_line  \n",
       "count          37880.000000                38577.000000  \n",
       "mean               0.043479                10090.981647  \n",
       "std                0.204583                 2491.854695  \n",
       "min                0.000000                 5803.000000  \n",
       "25%                0.000000                 8421.000000  \n",
       "50%                0.000000                 9640.000000  \n",
       "75%                0.000000                11252.000000  \n",
       "max                2.000000                28753.000000  "
      ]
     },
     "execution_count": 532,
     "metadata": {},
     "output_type": "execute_result"
    }
   ],
   "source": [
    "data.info()\n",
    "data.describe()"
   ]
  },
  {
   "cell_type": "code",
   "execution_count": 538,
   "id": "093fd008-080e-4f00-a671-1099bf3d8cae",
   "metadata": {},
   "outputs": [
    {
     "data": {
      "text/plain": [
       "<Axes: xlabel='loan_status'>"
      ]
     },
     "execution_count": 538,
     "metadata": {},
     "output_type": "execute_result"
    },
    {
     "data": {
      "image/png": "[encoded data removed]",
      "text/plain": [
       "<Figure size 640x480 with 1 Axes>"
      ]
     },
     "metadata": {},
     "output_type": "display_data"
    }
   ],
   "source": [
    "loan_percentage =  data['loan_status'].value_counts(normalize=True)\n",
    "loan_percentage.plot.bar()"
   ]
  },
  {
   "cell_type": "code",
   "execution_count": 570,
   "id": "12f0ab49-b839-490a-8d8b-97c63fcc9128",
   "metadata": {},
   "outputs": [],
   "source": [
    "#data.head()\n",
    "# here are some of the global settings/constants that will be referred to within the functions defined below\n",
    "#colors = [\"#fca9a9\",\"#a9fea9\"]\n",
    "colors = [\"#a9fea9\",\"#aca9a9\"]\n",
    "sns.set(style='whitegrid', palette=sns.color_palette(colors))\n",
    "by = 'loan_status'\n",
    "order = ['Fully Paid','Charged Off']\n",
    "# loan_status_pct from above will be used in the below functions as well"
   ]
  },
  {
   "cell_type": "code",
   "execution_count": 572,
   "id": "fd690542-8345-4298-9a38-1ebff910927d",
   "metadata": {},
   "outputs": [
    {
     "data": {
      "image/png": "[encoded data removed]",
      "text/plain": [
       "<Figure size 2000x1200 with 1 Axes>"
      ]
     },
     "metadata": {},
     "output_type": "display_data"
    }
   ],
   "source": [
    "plt.figure(figsize=(20, 12))\n",
    "plt.subplot(2,2,1)\n",
    "colors = [\"#a9fea9\",\"#fca9a9\"]\n",
    "\n",
    "sns.boxplot(x = 'loan_status', y = 'loan_amnt', data = data)\n",
    "plt.show()"
   ]
  },
  {
   "cell_type": "code",
   "execution_count": 578,
   "id": "d0d82b83-c409-4398-9872-5fbd6fcef4c4",
   "metadata": {},
   "outputs": [
    {
     "data": {
      "text/plain": [
       "count    38577.000000\n",
       "mean     11047.025430\n",
       "std       7348.441646\n",
       "min        500.000000\n",
       "25%       5300.000000\n",
       "50%       9600.000000\n",
       "75%      15000.000000\n",
       "max      35000.000000\n",
       "Name: loan_amnt, dtype: float64"
      ]
     },
     "execution_count": 578,
     "metadata": {},
     "output_type": "execute_result"
    }
   ],
   "source": [
    "data['loan_amnt'].describe()\n"
   ]
  },
  {
   "cell_type": "code",
   "execution_count": 598,
   "id": "69ddf745-78b6-4003-9514-164179418668",
   "metadata": {},
   "outputs": [
    {
     "data": {
      "image/png": "[encoded data removed]",
      "text/plain": [
       "<Figure size 1500x1200 with 1 Axes>"
      ]
     },
     "metadata": {},
     "output_type": "display_data"
    }
   ],
   "source": [
    "# good amoutn of difference between mean and median. let's restrict the data untill 75%\n",
    "restrict_below75 = data.loc[(data['loan_amnt']<=15000)]\n",
    "plt.figure(figsize=(15, 12))\n",
    "plt.subplot(2,2,1)\n",
    "sns.boxplot(x = 'loan_status', y = 'loan_amnt', data = restrict_75)\n",
    "plt.show()"
   ]
  },
  {
   "cell_type": "code",
   "execution_count": 596,
   "id": "e3aa3cac-193f-412e-b60f-dbce6394175f",
   "metadata": {},
   "outputs": [
    {
     "data": {
      "image/png": "[encoded data removed]",
      "text/plain": [
       "<Figure size 1500x1000 with 1 Axes>"
      ]
     },
     "metadata": {},
     "output_type": "display_data"
    }
   ],
   "source": [
    "# good amoutn of difference between mean and median. let's restrict the data untill 75%\n",
    "restrict_above75 = data.loc[(data['loan_amnt']>=15000)]\n",
    "plt.figure(figsize=(15, 10))\n",
    "plt.subplot(2,2,1)\n",
    "sns.boxplot(x = 'loan_status', y = 'loan_amnt', data = restrict_above75)\n",
    "plt.show()"
   ]
  },
  {
   "cell_type": "code",
   "execution_count": 606,
   "id": "4d28d532-a288-4750-8f2f-07fe94c12d6c",
   "metadata": {},
   "outputs": [
    {
     "ename": "NameError",
     "evalue": "name 'loan_amnt' is not defined",
     "output_type": "error",
     "traceback": [
      "\u001b[0;31m---------------------------------------------------------------------------\u001b[0m",
      "\u001b[0;31mNameError\u001b[0m                                 Traceback (most recent call last)",
      "Cell \u001b[0;32mIn[606], line 1\u001b[0m\n\u001b[0;32m----> 1\u001b[0m sns\u001b[38;5;241m.\u001b[39mbarplot(loan_amnt)\n",
      "\u001b[0;31mNameError\u001b[0m: name 'loan_amnt' is not defined"
     ]
    }
   ],
   "source": [
    "sns.barplot(loan_amnt)"
   ]
  }
 ],
 "metadata": {
  "kernelspec": {
   "display_name": "Python 3 (ipykernel)",
   "language": "python",
   "name": "python3"
  },
  "language_info": {
   "codemirror_mode": {
    "name": "ipython",
    "version": 3
   },
   "file_extension": ".py",
   "mimetype": "text/x-python",
   "name": "python",
   "nbconvert_exporter": "python",
   "pygments_lexer": "ipython3",
   "version": "3.12.4"
  }
 },
 "nbformat": 4,
 "nbformat_minor": 5
}
